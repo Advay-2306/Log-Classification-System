{
 "cells": [
  {
   "metadata": {},
   "cell_type": "markdown",
   "source": [
    "# Log Classification Training Notebook\n",
    "This notebook processes a dataset of log messages, performs clustering using BERT embeddings, applies regex-based classification, and trains machine learning models for log classification."
   ],
   "id": "7567a722c4b21058"
  },
  {
   "metadata": {},
   "cell_type": "markdown",
   "source": "## 1. Data Loading and Preparation",
   "id": "cace3e70b9cbee23"
  },
  {
   "cell_type": "code",
   "id": "initial_id",
   "metadata": {
    "collapsed": true,
    "ExecuteTime": {
     "end_time": "2025-09-22T05:14:38.426905Z",
     "start_time": "2025-09-22T05:14:38.396689Z"
    }
   },
   "source": [
    "import pandas as pd\n",
    "import numpy as np\n",
    "\n",
    "df = pd.read_csv('dataset/log_messages.csv')\n",
    "df = df.drop('complexity', axis = 1)\n",
    "df.head()"
   ],
   "outputs": [
    {
     "data": {
      "text/plain": [
       "             timestamp           source  \\\n",
       "0  2025-06-27 07:20:25        ModernCRM   \n",
       "1      1/14/2025 23:07        ModernCRM   \n",
       "2       1/17/2025 1:29  AnalyticsEngine   \n",
       "3  2025-07-12 00:24:16         ModernHR   \n",
       "4  2025-06-02 18:25:23    BillingSystem   \n",
       "\n",
       "                                         log_message    target_label  \n",
       "0  nova.osapi_compute.wsgi.server [req-b9718cd8-f...     HTTP Status  \n",
       "1     Email service experiencing issues with sending  Critical Error  \n",
       "2          Unauthorized access to data was attempted  Security Alert  \n",
       "3  nova.osapi_compute.wsgi.server [req-4895c258-b...     HTTP Status  \n",
       "4  nova.osapi_compute.wsgi.server [req-ee8bc8ba-9...     HTTP Status  "
      ],
      "text/html": [
       "<div>\n",
       "<style scoped>\n",
       "    .dataframe tbody tr th:only-of-type {\n",
       "        vertical-align: middle;\n",
       "    }\n",
       "\n",
       "    .dataframe tbody tr th {\n",
       "        vertical-align: top;\n",
       "    }\n",
       "\n",
       "    .dataframe thead th {\n",
       "        text-align: right;\n",
       "    }\n",
       "</style>\n",
       "<table border=\"1\" class=\"dataframe\">\n",
       "  <thead>\n",
       "    <tr style=\"text-align: right;\">\n",
       "      <th></th>\n",
       "      <th>timestamp</th>\n",
       "      <th>source</th>\n",
       "      <th>log_message</th>\n",
       "      <th>target_label</th>\n",
       "    </tr>\n",
       "  </thead>\n",
       "  <tbody>\n",
       "    <tr>\n",
       "      <th>0</th>\n",
       "      <td>2025-06-27 07:20:25</td>\n",
       "      <td>ModernCRM</td>\n",
       "      <td>nova.osapi_compute.wsgi.server [req-b9718cd8-f...</td>\n",
       "      <td>HTTP Status</td>\n",
       "    </tr>\n",
       "    <tr>\n",
       "      <th>1</th>\n",
       "      <td>1/14/2025 23:07</td>\n",
       "      <td>ModernCRM</td>\n",
       "      <td>Email service experiencing issues with sending</td>\n",
       "      <td>Critical Error</td>\n",
       "    </tr>\n",
       "    <tr>\n",
       "      <th>2</th>\n",
       "      <td>1/17/2025 1:29</td>\n",
       "      <td>AnalyticsEngine</td>\n",
       "      <td>Unauthorized access to data was attempted</td>\n",
       "      <td>Security Alert</td>\n",
       "    </tr>\n",
       "    <tr>\n",
       "      <th>3</th>\n",
       "      <td>2025-07-12 00:24:16</td>\n",
       "      <td>ModernHR</td>\n",
       "      <td>nova.osapi_compute.wsgi.server [req-4895c258-b...</td>\n",
       "      <td>HTTP Status</td>\n",
       "    </tr>\n",
       "    <tr>\n",
       "      <th>4</th>\n",
       "      <td>2025-06-02 18:25:23</td>\n",
       "      <td>BillingSystem</td>\n",
       "      <td>nova.osapi_compute.wsgi.server [req-ee8bc8ba-9...</td>\n",
       "      <td>HTTP Status</td>\n",
       "    </tr>\n",
       "  </tbody>\n",
       "</table>\n",
       "</div>"
      ]
     },
     "execution_count": 5,
     "metadata": {},
     "output_type": "execute_result"
    }
   ],
   "execution_count": 5
  },
  {
   "metadata": {},
   "cell_type": "markdown",
   "source": [
    "## 2. Embeddings and Clustering\n",
    "- SentenceTransformer model for generating embeddings and DBSCAN for clustering\n",
    "- Encode the log messages into embeddings using the SentenceTransformer model\n",
    "- Apply DBSCAN clustering to the embeddings, add a 'clusters' column to the DataFrame"
   ],
   "id": "d9506e8d491adda"
  },
  {
   "metadata": {
    "ExecuteTime": {
     "end_time": "2025-09-22T05:15:14.606803Z",
     "start_time": "2025-09-22T05:14:38.526389Z"
    }
   },
   "cell_type": "code",
   "source": [
    "from sentence_transformers import SentenceTransformer\n",
    "from sklearn.cluster import DBSCAN\n",
    "\n",
    "model = SentenceTransformer('all-MiniLM-L6-v2')"
   ],
   "id": "afe710585a0708eb",
   "outputs": [
    {
     "name": "stdout",
     "output_type": "stream",
     "text": [
      "WARNING:tensorflow:From D:\\Advay\\new workspace\\Log-Classification-System\\.venv\\lib\\site-packages\\keras\\src\\losses.py:2976: The name tf.losses.sparse_softmax_cross_entropy is deprecated. Please use tf.compat.v1.losses.sparse_softmax_cross_entropy instead.\n",
      "\n"
     ]
    }
   ],
   "execution_count": 6
  },
  {
   "metadata": {
    "ExecuteTime": {
     "end_time": "2025-09-22T05:15:36.044660Z",
     "start_time": "2025-09-22T05:15:14.674437Z"
    }
   },
   "cell_type": "code",
   "source": [
    "# Generate embeddings for log messages\n",
    "embeddings = model.encode(df['log_message'].tolist())"
   ],
   "id": "e84c6622dc094642",
   "outputs": [],
   "execution_count": 7
  },
  {
   "metadata": {
    "ExecuteTime": {
     "end_time": "2025-09-22T05:15:36.236925Z",
     "start_time": "2025-09-22T05:15:36.085315Z"
    }
   },
   "cell_type": "code",
   "source": [
    "# Perform DBSCAN clustering\n",
    "dbscan = DBSCAN(eps=0.2, min_samples=1, metric='cosine')\n",
    "clusters = dbscan.fit_predict(embeddings)\n",
    "\n",
    "df['clusters'] = clusters\n",
    "df.head()"
   ],
   "id": "2944fb5f1e862e19",
   "outputs": [
    {
     "data": {
      "text/plain": [
       "             timestamp           source  \\\n",
       "0  2025-06-27 07:20:25        ModernCRM   \n",
       "1      1/14/2025 23:07        ModernCRM   \n",
       "2       1/17/2025 1:29  AnalyticsEngine   \n",
       "3  2025-07-12 00:24:16         ModernHR   \n",
       "4  2025-06-02 18:25:23    BillingSystem   \n",
       "\n",
       "                                         log_message    target_label  clusters  \n",
       "0  nova.osapi_compute.wsgi.server [req-b9718cd8-f...     HTTP Status         0  \n",
       "1     Email service experiencing issues with sending  Critical Error         1  \n",
       "2          Unauthorized access to data was attempted  Security Alert         2  \n",
       "3  nova.osapi_compute.wsgi.server [req-4895c258-b...     HTTP Status         0  \n",
       "4  nova.osapi_compute.wsgi.server [req-ee8bc8ba-9...     HTTP Status         0  "
      ],
      "text/html": [
       "<div>\n",
       "<style scoped>\n",
       "    .dataframe tbody tr th:only-of-type {\n",
       "        vertical-align: middle;\n",
       "    }\n",
       "\n",
       "    .dataframe tbody tr th {\n",
       "        vertical-align: top;\n",
       "    }\n",
       "\n",
       "    .dataframe thead th {\n",
       "        text-align: right;\n",
       "    }\n",
       "</style>\n",
       "<table border=\"1\" class=\"dataframe\">\n",
       "  <thead>\n",
       "    <tr style=\"text-align: right;\">\n",
       "      <th></th>\n",
       "      <th>timestamp</th>\n",
       "      <th>source</th>\n",
       "      <th>log_message</th>\n",
       "      <th>target_label</th>\n",
       "      <th>clusters</th>\n",
       "    </tr>\n",
       "  </thead>\n",
       "  <tbody>\n",
       "    <tr>\n",
       "      <th>0</th>\n",
       "      <td>2025-06-27 07:20:25</td>\n",
       "      <td>ModernCRM</td>\n",
       "      <td>nova.osapi_compute.wsgi.server [req-b9718cd8-f...</td>\n",
       "      <td>HTTP Status</td>\n",
       "      <td>0</td>\n",
       "    </tr>\n",
       "    <tr>\n",
       "      <th>1</th>\n",
       "      <td>1/14/2025 23:07</td>\n",
       "      <td>ModernCRM</td>\n",
       "      <td>Email service experiencing issues with sending</td>\n",
       "      <td>Critical Error</td>\n",
       "      <td>1</td>\n",
       "    </tr>\n",
       "    <tr>\n",
       "      <th>2</th>\n",
       "      <td>1/17/2025 1:29</td>\n",
       "      <td>AnalyticsEngine</td>\n",
       "      <td>Unauthorized access to data was attempted</td>\n",
       "      <td>Security Alert</td>\n",
       "      <td>2</td>\n",
       "    </tr>\n",
       "    <tr>\n",
       "      <th>3</th>\n",
       "      <td>2025-07-12 00:24:16</td>\n",
       "      <td>ModernHR</td>\n",
       "      <td>nova.osapi_compute.wsgi.server [req-4895c258-b...</td>\n",
       "      <td>HTTP Status</td>\n",
       "      <td>0</td>\n",
       "    </tr>\n",
       "    <tr>\n",
       "      <th>4</th>\n",
       "      <td>2025-06-02 18:25:23</td>\n",
       "      <td>BillingSystem</td>\n",
       "      <td>nova.osapi_compute.wsgi.server [req-ee8bc8ba-9...</td>\n",
       "      <td>HTTP Status</td>\n",
       "      <td>0</td>\n",
       "    </tr>\n",
       "  </tbody>\n",
       "</table>\n",
       "</div>"
      ]
     },
     "execution_count": 8,
     "metadata": {},
     "output_type": "execute_result"
    }
   ],
   "execution_count": 8
  },
  {
   "metadata": {
    "ExecuteTime": {
     "end_time": "2025-09-22T05:15:36.337763Z",
     "start_time": "2025-09-22T05:15:36.316821Z"
    }
   },
   "cell_type": "code",
   "source": "df.target_label.value_counts()",
   "id": "45b83dc00276f732",
   "outputs": [
    {
     "data": {
      "text/plain": [
       "target_label\n",
       "HTTP Status            1017\n",
       "Security Alert          371\n",
       "System Notification     356\n",
       "Error                   177\n",
       "Resource Usage          177\n",
       "Critical Error          161\n",
       "User Action             144\n",
       "Workflow Error            4\n",
       "Deprecation Warning       3\n",
       "Name: count, dtype: int64"
      ]
     },
     "execution_count": 9,
     "metadata": {},
     "output_type": "execute_result"
    }
   ],
   "execution_count": 9
  },
  {
   "metadata": {
    "ExecuteTime": {
     "end_time": "2025-09-22T05:15:36.533787Z",
     "start_time": "2025-09-22T05:15:36.469408Z"
    }
   },
   "cell_type": "code",
   "source": [
    "# Analyse Large Clusters (>10 samples)\n",
    "cluster_cnts = df['clusters'].value_counts()\n",
    "large_clusters = cluster_cnts[cluster_cnts > 10].index\n",
    "\n",
    "for cl in large_clusters:\n",
    "    print(f\"Cluster {cl}:\")\n",
    "    print(df[df['clusters'] == cl]['target_label'].head(1).to_string(index=False))\n",
    "    print(df[df['clusters'] == cl]['log_message'].head().to_string(index=False))\n",
    "    print()"
   ],
   "id": "1ba4952a3f90a154",
   "outputs": [
    {
     "name": "stdout",
     "output_type": "stream",
     "text": [
      "Cluster 0:\n",
      "HTTP Status\n",
      "nova.osapi_compute.wsgi.server [req-b9718cd8-f6...\n",
      "nova.osapi_compute.wsgi.server [req-4895c258-b2...\n",
      "nova.osapi_compute.wsgi.server [req-ee8bc8ba-92...\n",
      "nova.osapi_compute.wsgi.server [req-f0bffbc3-5a...\n",
      "nova.osapi_compute.wsgi.server [req-2bf7cfee-a2...\n",
      "\n",
      "Cluster 5:\n",
      "Resource Usage\n",
      "nova.compute.claims [req-a07ac654-8e81-416d-bfb...\n",
      "nova.compute.claims [req-d6986b54-3735-4a42-907...\n",
      "nova.compute.claims [req-72b4858f-049e-49e1-b31...\n",
      "nova.compute.claims [req-5c8f52bd-8e3c-41f0-95a...\n",
      "nova.compute.claims [req-d38f479d-9bb9-4276-968...\n",
      "\n",
      "Cluster 11:\n",
      "User Action\n",
      "User User685 logged out.\n",
      " User User395 logged in.\n",
      " User User225 logged in.\n",
      "User User494 logged out.\n",
      " User User900 logged in.\n",
      "\n",
      "Cluster 13:\n",
      "System Notification\n",
      "Backup started at 2025-05-14 07:06:55.\n",
      "Backup started at 2025-02-15 20:00:19.\n",
      "  Backup ended at 2025-08-08 13:06:23.\n",
      "Backup started at 2025-11-14 08:27:43.\n",
      "Backup started at 2025-12-09 10:19:11.\n",
      "\n",
      "Cluster 7:\n",
      "Security Alert\n",
      "Multiple bad login attempts detected on user 85...\n",
      "Multiple login failures occurred on user 9052 a...\n",
      "  User 7153 made multiple incorrect login attempts\n",
      "  User 8300 made multiple incorrect login attempts\n",
      "Multiple login failures were detected for user ...\n",
      "\n",
      "Cluster 8:\n",
      "System Notification\n",
      "Backup completed successfully.\n",
      "Backup completed successfully.\n",
      "Backup completed successfully.\n",
      "Backup completed successfully.\n",
      "Backup completed successfully.\n",
      "\n",
      "Cluster 21:\n",
      "System Notification\n",
      "System updated to version 3.9.1.\n",
      "System updated to version 5.5.4.\n",
      "System updated to version 4.7.4.\n",
      "System updated to version 3.7.7.\n",
      "System updated to version 2.6.2.\n",
      "\n",
      "Cluster 3:\n",
      "Error\n",
      "         Shard 6 replication task ended in failure\n",
      "Data replication task for shard 14 did not comp...\n",
      "         Data replication task failed for shard 17\n",
      "            Replication of data to shard 14 failed\n",
      "Data replication task for shard 6 did not complete\n",
      "\n",
      "Cluster 4:\n",
      "System Notification\n",
      "File data_6169.csv uploaded successfully by use...\n",
      "File data_3847.csv uploaded successfully by use...\n",
      "File data_7366.csv uploaded successfully by use...\n",
      "File data_1206.csv uploaded successfully by use...\n",
      "File data_1503.csv uploaded successfully by use...\n",
      "\n",
      "Cluster 17:\n",
      "Security Alert\n",
      "Denied access attempt on restricted account Acc...\n",
      "Unauthorized login attempt on protected account...\n",
      "   Account Account9437 blocked due to failed login\n",
      "Account Account7999 access denied due to login ...\n",
      "Invalid login attempt made on secured account A...\n",
      "\n",
      "Cluster 32:\n",
      "System Notification\n",
      "Disk cleanup completed successfully.\n",
      "Disk cleanup completed successfully.\n",
      "Disk cleanup completed successfully.\n",
      "Disk cleanup completed successfully.\n",
      "Disk cleanup completed successfully.\n",
      "\n",
      "Cluster 6:\n",
      "Critical Error\n",
      "   Critical system unit error: unit ID Component55\n",
      "System component malfunction: component ID Comp...\n",
      "Critical system element is down: element ID Com...\n",
      "Essential system part malfunction: part ID Comp...\n",
      "Failure occurred in critical system component: ...\n",
      "\n",
      "Cluster 16:\n",
      "System Notification\n",
      "System reboot initiated by user User243.\n",
      "System reboot initiated by user User471.\n",
      "System reboot initiated by user User216.\n",
      "System reboot initiated by user User639.\n",
      "System reboot initiated by user User819.\n",
      "\n",
      "Cluster 20:\n",
      "Security Alert\n",
      "   User 7662 tried to bypass API security measures\n",
      "User 2367 failed to provide valid API access cr...\n",
      "        User 3569 made an unauthorized API request\n",
      "Unauthorized user 2968 tried to access restrict...\n",
      "User 2186 attempted to access API without prope...\n",
      "\n",
      "Cluster 9:\n",
      "User Action\n",
      "Account with ID 5351 created by User634.\n",
      "Account with ID 7813 created by User373.\n",
      "Account with ID 9827 created by User965.\n",
      "Account with ID 2520 created by User546.\n",
      "Account with ID 2300 created by User964.\n",
      "\n",
      "Cluster 1:\n",
      "Critical Error\n",
      "  Email service experiencing issues with sending\n",
      "        Email server encountered a sending fault\n",
      "      Mail service encountered a delivery glitch\n",
      "Service disruption caused by email sending error\n",
      "       Email system had a problem sending emails\n",
      "\n",
      "Cluster 10:\n",
      "Resource Usage\n",
      "nova.compute.resource_tracker [req-addc1839-2ed...\n",
      "nova.compute.resource_tracker [req-addc1839-2ed...\n",
      "nova.compute.resource_tracker [req-addc1839-2ed...\n",
      "nova.compute.resource_tracker [req-addc1839-2ed...\n",
      "nova.compute.resource_tracker [req-addc1839-2ed...\n",
      "\n",
      "Cluster 34:\n",
      "Security Alert\n",
      "Abnormal behavior found on server 10, possible ...\n",
      "   Security alert: suspicious activity on server 1\n",
      "Anomalous activity identified on server 23, sec...\n",
      "Server 27 experienced potential security incide...\n",
      "Server 36 experienced potential security incide...\n",
      "\n",
      "Cluster 14:\n",
      "Critical Error\n",
      "   Detection of multiple disk faults in RAID setup\n",
      "  RAID array suffered multiple hard drive failures\n",
      "      RAID array experienced multiple disk crashes\n",
      "Multiple hard drive issues in RAID configuratio...\n",
      "Identification of multiple faulty disks in RAID...\n",
      "\n",
      "Cluster 53:\n",
      "Error\n",
      " Module X experienced an invalid data format issue\n",
      "        Input format mismatch occurred in module X\n",
      "Module X reported an error in input format vali...\n",
      "Module X failed to process input due to formatt...\n",
      "Input data format in module X was invalid or co...\n",
      "\n",
      "Cluster 52:\n",
      "Error\n",
      "Service health check was not successful because...\n",
      "Invalid SSL certificate resulted in a failed se...\n",
      "Service health check failure was due to an inva...\n",
      "An issue with the SSL certificate caused the se...\n",
      "Service health check failure was caused by an e...\n",
      "\n",
      "Cluster 18:\n",
      "Critical Error\n",
      "Boot process terminated unexpectedly due to ker...\n",
      "System encountered kernel panic during initiali...\n",
      "    Boot process was stopped by kernel malfunction\n",
      "System encountered kernel failure during bootup...\n",
      "          Boot sequence failed due to kernel panic\n",
      "\n",
      "Cluster 25:\n",
      "Critical Error\n",
      "         System configuration is no longer valid\n",
      "Configuration is corrupted throughout the system\n",
      "     Cross-system configuration failure occurred\n",
      "     System configuration is experiencing errors\n",
      "        Configuration malfunction is system-wide\n",
      "\n",
      "Cluster 42:\n",
      "Security Alert\n",
      "User 5127 has escalated admin privileges withou...\n",
      "            User 9745 has escalated to admin level\n",
      "     User 8483 escalated privileges to admin level\n",
      "            User 1987 has escalated to admin level\n",
      "     User 8395 escalated privileges to admin level\n",
      "\n",
      "Cluster 59:\n",
      "Security Alert\n",
      "Potential security threat: Admin privilege esca...\n",
      "    Admin privilege escalation alert for user 2893\n",
      "    Admin privilege escalation alert for user 8532\n",
      "Potential security threat: Admin privilege esca...\n",
      "Warning: Potential admin privilege escalation f...\n",
      "\n",
      "Cluster 26:\n",
      "Security Alert\n",
      "        Privilege elevation detected for user 5038\n",
      "Elevation of admin privileges detected for user...\n",
      "Elevation of admin privileges detected for user...\n",
      "User 6069 has been granted elevated admin privi...\n",
      "   Admin privilege elevation warning for user 7574\n",
      "\n"
     ]
    }
   ],
   "execution_count": 10
  },
  {
   "metadata": {},
   "cell_type": "markdown",
   "source": [
    "## 4. Regex Classification\n",
    "- Classify log messages with common patterns using regular expressions"
   ],
   "id": "7f397030d89593dd"
  },
  {
   "metadata": {
    "ExecuteTime": {
     "end_time": "2025-09-22T05:15:36.637251Z",
     "start_time": "2025-09-22T05:15:36.622607Z"
    }
   },
   "cell_type": "code",
   "source": [
    "import re\n",
    "def classify_with_regex(log_message):\n",
    "    regex_patterns = {\n",
    "        r\"User ([A-Za-z]+[0-9]*|[0-9]+) logged (in|out).\": \"User Action\",\n",
    "        r\"Backup (started|ended) at .*:\": \"System Notification\",\n",
    "        r\"Backup completed successfully.\": \"System Notification\",\n",
    "        r\"System updated to version .*\": \"System Notification\",\n",
    "        r\"File .* uploaded successfully by user .*\": \"System Notification\",\n",
    "        r\"Disk cleanup completed successfully\": \"System Notification\",\n",
    "        r\"System reboot initiated by user .*\": \"System Notification\",\n",
    "        r\"Account with ID .* created by .*\": \"User Action\"\n",
    "    }\n",
    "\n",
    "    for pattern, label in regex_patterns.items():\n",
    "        if re.search(pattern, log_message, re.IGNORECASE):\n",
    "            return label\n",
    "    return None"
   ],
   "id": "229b894922448c7b",
   "outputs": [],
   "execution_count": 11
  },
  {
   "metadata": {
    "ExecuteTime": {
     "end_time": "2025-09-22T05:15:36.769613Z",
     "start_time": "2025-09-22T05:15:36.757810Z"
    }
   },
   "cell_type": "code",
   "source": "print(classify_with_regex(\"User User1235 logged IN.\"))",
   "id": "8dc1b7a42b16610",
   "outputs": [
    {
     "name": "stdout",
     "output_type": "stream",
     "text": [
      "User Action\n"
     ]
    }
   ],
   "execution_count": 12
  },
  {
   "metadata": {
    "ExecuteTime": {
     "end_time": "2025-09-22T05:15:36.891759Z",
     "start_time": "2025-09-22T05:15:36.831537Z"
    }
   },
   "cell_type": "code",
   "source": [
    "df['regex_label'] = df['log_message'].apply(classify_with_regex)\n",
    "\n",
    "# verify regex classification\n",
    "df[df['target_label'].isin(['Security Alert', 'System Notification'])].head()"
   ],
   "id": "f21cd61a1542d800",
   "outputs": [
    {
     "data": {
      "text/plain": [
       "          timestamp           source  \\\n",
       "2    1/17/2025 1:29  AnalyticsEngine   \n",
       "7   10/11/2025 8:44         ModernHR   \n",
       "13   8/4/2025 19:57    ThirdPartyAPI   \n",
       "14    1/4/2025 1:43    ThirdPartyAPI   \n",
       "15    5/1/2025 9:41        ModernCRM   \n",
       "\n",
       "                                          log_message         target_label  \\\n",
       "2           Unauthorized access to data was attempted       Security Alert   \n",
       "7   File data_6169.csv uploaded successfully by us...  System Notification   \n",
       "13  Multiple bad login attempts detected on user 8...       Security Alert   \n",
       "14  File data_3847.csv uploaded successfully by us...  System Notification   \n",
       "15                     Backup completed successfully.  System Notification   \n",
       "\n",
       "    clusters          regex_label  \n",
       "2          2                 None  \n",
       "7          4  System Notification  \n",
       "13         7                 None  \n",
       "14         4  System Notification  \n",
       "15         8  System Notification  "
      ],
      "text/html": [
       "<div>\n",
       "<style scoped>\n",
       "    .dataframe tbody tr th:only-of-type {\n",
       "        vertical-align: middle;\n",
       "    }\n",
       "\n",
       "    .dataframe tbody tr th {\n",
       "        vertical-align: top;\n",
       "    }\n",
       "\n",
       "    .dataframe thead th {\n",
       "        text-align: right;\n",
       "    }\n",
       "</style>\n",
       "<table border=\"1\" class=\"dataframe\">\n",
       "  <thead>\n",
       "    <tr style=\"text-align: right;\">\n",
       "      <th></th>\n",
       "      <th>timestamp</th>\n",
       "      <th>source</th>\n",
       "      <th>log_message</th>\n",
       "      <th>target_label</th>\n",
       "      <th>clusters</th>\n",
       "      <th>regex_label</th>\n",
       "    </tr>\n",
       "  </thead>\n",
       "  <tbody>\n",
       "    <tr>\n",
       "      <th>2</th>\n",
       "      <td>1/17/2025 1:29</td>\n",
       "      <td>AnalyticsEngine</td>\n",
       "      <td>Unauthorized access to data was attempted</td>\n",
       "      <td>Security Alert</td>\n",
       "      <td>2</td>\n",
       "      <td>None</td>\n",
       "    </tr>\n",
       "    <tr>\n",
       "      <th>7</th>\n",
       "      <td>10/11/2025 8:44</td>\n",
       "      <td>ModernHR</td>\n",
       "      <td>File data_6169.csv uploaded successfully by us...</td>\n",
       "      <td>System Notification</td>\n",
       "      <td>4</td>\n",
       "      <td>System Notification</td>\n",
       "    </tr>\n",
       "    <tr>\n",
       "      <th>13</th>\n",
       "      <td>8/4/2025 19:57</td>\n",
       "      <td>ThirdPartyAPI</td>\n",
       "      <td>Multiple bad login attempts detected on user 8...</td>\n",
       "      <td>Security Alert</td>\n",
       "      <td>7</td>\n",
       "      <td>None</td>\n",
       "    </tr>\n",
       "    <tr>\n",
       "      <th>14</th>\n",
       "      <td>1/4/2025 1:43</td>\n",
       "      <td>ThirdPartyAPI</td>\n",
       "      <td>File data_3847.csv uploaded successfully by us...</td>\n",
       "      <td>System Notification</td>\n",
       "      <td>4</td>\n",
       "      <td>System Notification</td>\n",
       "    </tr>\n",
       "    <tr>\n",
       "      <th>15</th>\n",
       "      <td>5/1/2025 9:41</td>\n",
       "      <td>ModernCRM</td>\n",
       "      <td>Backup completed successfully.</td>\n",
       "      <td>System Notification</td>\n",
       "      <td>8</td>\n",
       "      <td>System Notification</td>\n",
       "    </tr>\n",
       "  </tbody>\n",
       "</table>\n",
       "</div>"
      ]
     },
     "execution_count": 13,
     "metadata": {},
     "output_type": "execute_result"
    }
   ],
   "execution_count": 13
  },
  {
   "metadata": {},
   "cell_type": "markdown",
   "source": [
    "## 5. Further Classification Strategy\n",
    "For label not classified by Regex, we can use BERT classification or LLM classification depending on number of training samples available.\n",
    "\n",
    "BERT when enough training samples avaialable, LLM classification otherwise."
   ],
   "id": "e5bcf66195d2e3cf"
  },
  {
   "metadata": {
    "ExecuteTime": {
     "end_time": "2025-09-22T05:15:37.038438Z",
     "start_time": "2025-09-22T05:15:37.010908Z"
    }
   },
   "cell_type": "code",
   "source": [
    "df_non_regex = df[df['regex_label'].isnull()].copy()\n",
    "df_non_regex.head()"
   ],
   "id": "28490a79c91628a4",
   "outputs": [
    {
     "data": {
      "text/plain": [
       "             timestamp           source  \\\n",
       "0  2025-06-27 07:20:25        ModernCRM   \n",
       "1      1/14/2025 23:07        ModernCRM   \n",
       "2       1/17/2025 1:29  AnalyticsEngine   \n",
       "3  2025-07-12 00:24:16         ModernHR   \n",
       "4  2025-06-02 18:25:23    BillingSystem   \n",
       "\n",
       "                                         log_message    target_label  \\\n",
       "0  nova.osapi_compute.wsgi.server [req-b9718cd8-f...     HTTP Status   \n",
       "1     Email service experiencing issues with sending  Critical Error   \n",
       "2          Unauthorized access to data was attempted  Security Alert   \n",
       "3  nova.osapi_compute.wsgi.server [req-4895c258-b...     HTTP Status   \n",
       "4  nova.osapi_compute.wsgi.server [req-ee8bc8ba-9...     HTTP Status   \n",
       "\n",
       "   clusters regex_label  \n",
       "0         0        None  \n",
       "1         1        None  \n",
       "2         2        None  \n",
       "3         0        None  \n",
       "4         0        None  "
      ],
      "text/html": [
       "<div>\n",
       "<style scoped>\n",
       "    .dataframe tbody tr th:only-of-type {\n",
       "        vertical-align: middle;\n",
       "    }\n",
       "\n",
       "    .dataframe tbody tr th {\n",
       "        vertical-align: top;\n",
       "    }\n",
       "\n",
       "    .dataframe thead th {\n",
       "        text-align: right;\n",
       "    }\n",
       "</style>\n",
       "<table border=\"1\" class=\"dataframe\">\n",
       "  <thead>\n",
       "    <tr style=\"text-align: right;\">\n",
       "      <th></th>\n",
       "      <th>timestamp</th>\n",
       "      <th>source</th>\n",
       "      <th>log_message</th>\n",
       "      <th>target_label</th>\n",
       "      <th>clusters</th>\n",
       "      <th>regex_label</th>\n",
       "    </tr>\n",
       "  </thead>\n",
       "  <tbody>\n",
       "    <tr>\n",
       "      <th>0</th>\n",
       "      <td>2025-06-27 07:20:25</td>\n",
       "      <td>ModernCRM</td>\n",
       "      <td>nova.osapi_compute.wsgi.server [req-b9718cd8-f...</td>\n",
       "      <td>HTTP Status</td>\n",
       "      <td>0</td>\n",
       "      <td>None</td>\n",
       "    </tr>\n",
       "    <tr>\n",
       "      <th>1</th>\n",
       "      <td>1/14/2025 23:07</td>\n",
       "      <td>ModernCRM</td>\n",
       "      <td>Email service experiencing issues with sending</td>\n",
       "      <td>Critical Error</td>\n",
       "      <td>1</td>\n",
       "      <td>None</td>\n",
       "    </tr>\n",
       "    <tr>\n",
       "      <th>2</th>\n",
       "      <td>1/17/2025 1:29</td>\n",
       "      <td>AnalyticsEngine</td>\n",
       "      <td>Unauthorized access to data was attempted</td>\n",
       "      <td>Security Alert</td>\n",
       "      <td>2</td>\n",
       "      <td>None</td>\n",
       "    </tr>\n",
       "    <tr>\n",
       "      <th>3</th>\n",
       "      <td>2025-07-12 00:24:16</td>\n",
       "      <td>ModernHR</td>\n",
       "      <td>nova.osapi_compute.wsgi.server [req-4895c258-b...</td>\n",
       "      <td>HTTP Status</td>\n",
       "      <td>0</td>\n",
       "      <td>None</td>\n",
       "    </tr>\n",
       "    <tr>\n",
       "      <th>4</th>\n",
       "      <td>2025-06-02 18:25:23</td>\n",
       "      <td>BillingSystem</td>\n",
       "      <td>nova.osapi_compute.wsgi.server [req-ee8bc8ba-9...</td>\n",
       "      <td>HTTP Status</td>\n",
       "      <td>0</td>\n",
       "      <td>None</td>\n",
       "    </tr>\n",
       "  </tbody>\n",
       "</table>\n",
       "</div>"
      ]
     },
     "execution_count": 14,
     "metadata": {},
     "output_type": "execute_result"
    }
   ],
   "execution_count": 14
  },
  {
   "metadata": {},
   "cell_type": "markdown",
   "source": "### Identify low-frequency labels for LLM Classification",
   "id": "5f74d0500ad90b11"
  },
  {
   "metadata": {
    "ExecuteTime": {
     "end_time": "2025-09-22T05:15:37.196813Z",
     "start_time": "2025-09-22T05:15:37.182746Z"
    }
   },
   "cell_type": "code",
   "source": [
    "# Better to perform LLM classification on the labels from source LegacyCRM whose freq <= 5\n",
    "print(df_non_regex['target_label'].value_counts()[df_non_regex['target_label'].value_counts() <= 5].index.tolist())"
   ],
   "id": "363a30ecc2a4816a",
   "outputs": [
    {
     "name": "stdout",
     "output_type": "stream",
     "text": [
      "['Workflow Error', 'Deprecation Warning']\n"
     ]
    }
   ],
   "execution_count": 15
  },
  {
   "metadata": {},
   "cell_type": "markdown",
   "source": [
    "## 6. BERT Encoding\n",
    "- Filter out data from 'LegacyCRM' source (used for llm classification)\n",
    "- Encode the log messages from the filtered data"
   ],
   "id": "c7788b18041c78b2"
  },
  {
   "metadata": {
    "ExecuteTime": {
     "end_time": "2025-09-22T05:15:37.380676Z",
     "start_time": "2025-09-22T05:15:37.360789Z"
    }
   },
   "cell_type": "code",
   "source": [
    "# BERT encoding for these labels\n",
    "df_non_legacy = df_non_regex[df_non_regex['source'] != 'LegacyCRM']\n",
    "print(df_non_legacy.source.unique())"
   ],
   "id": "a1e3a9420ea69b9e",
   "outputs": [
    {
     "name": "stdout",
     "output_type": "stream",
     "text": [
      "['ModernCRM' 'AnalyticsEngine' 'ModernHR' 'BillingSystem' 'ThirdPartyAPI']\n"
     ]
    }
   ],
   "execution_count": 16
  },
  {
   "metadata": {
    "ExecuteTime": {
     "end_time": "2025-09-22T05:15:59.527331Z",
     "start_time": "2025-09-22T05:15:37.464782Z"
    }
   },
   "cell_type": "code",
   "source": [
    "filt_embeds = model.encode(df_non_legacy['log_message'].tolist())\n",
    "filt_embeds[:5]"
   ],
   "id": "ee149774853d7bb7",
   "outputs": [
    {
     "data": {
      "text/plain": [
       "array([[-0.10293962,  0.03354594, -0.02202607, ...,  0.00457793,\n",
       "        -0.04259717,  0.00322621],\n",
       "       [ 0.00804572, -0.03573923,  0.04938739, ...,  0.01538319,\n",
       "        -0.06230947, -0.02774666],\n",
       "       [-0.00908224,  0.13003924, -0.05275568, ...,  0.02014104,\n",
       "        -0.05117098, -0.02930294],\n",
       "       [-0.09751046,  0.04911299, -0.03977424, ...,  0.02477502,\n",
       "        -0.03546079, -0.00018598],\n",
       "       [-0.10468338,  0.05926038, -0.02488499, ...,  0.02502055,\n",
       "        -0.037193  , -0.0256891 ]], dtype=float32)"
      ]
     },
     "execution_count": 17,
     "metadata": {},
     "output_type": "execute_result"
    }
   ],
   "execution_count": 17
  },
  {
   "metadata": {},
   "cell_type": "markdown",
   "source": [
    "## 7. Train and Evaluate Models\n",
    "- Random Forest Classification\n",
    "- Naive Bayes Classification\n",
    "- Logistic Regression"
   ],
   "id": "5c9ca24ff7118d83"
  },
  {
   "metadata": {
    "ExecuteTime": {
     "end_time": "2025-09-22T05:16:01.289706Z",
     "start_time": "2025-09-22T05:15:59.546236Z"
    }
   },
   "cell_type": "code",
   "source": [
    "from sklearn.ensemble import RandomForestClassifier\n",
    "from sklearn.model_selection import train_test_split\n",
    "from sklearn.metrics import classification_report\n",
    "\n",
    "# Features and target\n",
    "X = filt_embeds\n",
    "y = df_non_legacy['target_label']\n",
    "\n",
    "# Stratified train-test split to maintain label distribution\n",
    "X_train, X_test, y_train, y_test = train_test_split(\n",
    "    X, y, test_size=0.3, random_state=42, stratify=y\n",
    ")\n",
    "\n",
    "# Initialize Random Forest with class_weight='balanced' to handle imbalance\n",
    "rf_model = RandomForestClassifier(\n",
    "    n_estimators=100,\n",
    "    criterion='entropy',\n",
    "    class_weight='balanced',\n",
    "    random_state=42\n",
    ")\n",
    "\n",
    "rf_model.fit(X_train, y_train)\n",
    "\n",
    "y_preds = rf_model.predict(X_test)\n",
    "\n",
    "print(\"Classification Report -- Random Forest:\\n\")\n",
    "print(classification_report(y_test, y_preds))"
   ],
   "id": "46962afd15d5c070",
   "outputs": [
    {
     "name": "stdout",
     "output_type": "stream",
     "text": [
      "Classification Report -- Random Forest:\n",
      "\n",
      "                precision    recall  f1-score   support\n",
      "\n",
      "Critical Error       1.00      0.98      0.99        48\n",
      "         Error       1.00      1.00      1.00        53\n",
      "   HTTP Status       1.00      1.00      1.00       305\n",
      "Resource Usage       1.00      1.00      1.00        53\n",
      "Security Alert       0.99      1.00      1.00       112\n",
      "\n",
      "      accuracy                           1.00       571\n",
      "     macro avg       1.00      1.00      1.00       571\n",
      "  weighted avg       1.00      1.00      1.00       571\n",
      "\n"
     ]
    }
   ],
   "execution_count": 18
  },
  {
   "metadata": {
    "ExecuteTime": {
     "end_time": "2025-09-22T05:16:01.395250Z",
     "start_time": "2025-09-22T05:16:01.355458Z"
    }
   },
   "cell_type": "code",
   "source": [
    "from sklearn.naive_bayes import GaussianNB\n",
    "\n",
    "X_train, X_test, y_train, y_test = train_test_split(\n",
    "    X, y, test_size=0.3, random_state=42, stratify=y\n",
    ")\n",
    "\n",
    "gnb_model = GaussianNB()\n",
    "\n",
    "gnb_model.fit(X_train, y_train)\n",
    "\n",
    "y_preds = gnb_model.predict(X_test)\n",
    "\n",
    "print(\"Classification Report -- Naive-Bayes:\\n\")\n",
    "print(classification_report(y_test, y_preds))"
   ],
   "id": "93deccf44ccd2690",
   "outputs": [
    {
     "name": "stdout",
     "output_type": "stream",
     "text": [
      "Classification Report -- Naive-Bayes:\n",
      "\n",
      "                precision    recall  f1-score   support\n",
      "\n",
      "Critical Error       0.94      0.98      0.96        48\n",
      "         Error       0.89      0.94      0.92        53\n",
      "   HTTP Status       1.00      0.98      0.99       305\n",
      "Resource Usage       1.00      1.00      1.00        53\n",
      "Security Alert       0.99      1.00      1.00       112\n",
      "\n",
      "      accuracy                           0.98       571\n",
      "     macro avg       0.96      0.98      0.97       571\n",
      "  weighted avg       0.98      0.98      0.98       571\n",
      "\n"
     ]
    }
   ],
   "execution_count": 19
  },
  {
   "metadata": {
    "ExecuteTime": {
     "end_time": "2025-09-22T05:16:01.642972Z",
     "start_time": "2025-09-22T05:16:01.531469Z"
    }
   },
   "cell_type": "code",
   "source": [
    "from sklearn.linear_model import LogisticRegression\n",
    "\n",
    "X_train, X_test, y_train, y_test = train_test_split(\n",
    "    X, y, test_size=0.3, random_state=42, stratify=y\n",
    ")\n",
    "\n",
    "lr_model = LogisticRegression(\n",
    "    solver='lbfgs',\n",
    "    max_iter=500,\n",
    "    class_weight='balanced',\n",
    "    random_state=42\n",
    ")\n",
    "\n",
    "lr_model.fit(X_train, y_train)\n",
    "\n",
    "y_preds = lr_model.predict(X_test)\n",
    "\n",
    "print(\"Classification Report -- Logistic Regression:\\n\")\n",
    "print(classification_report(y_test, y_preds))"
   ],
   "id": "6cf72a800a477b00",
   "outputs": [
    {
     "name": "stdout",
     "output_type": "stream",
     "text": [
      "Classification Report -- Logistic Regression:\n",
      "\n",
      "                precision    recall  f1-score   support\n",
      "\n",
      "Critical Error       1.00      0.98      0.99        48\n",
      "         Error       1.00      1.00      1.00        53\n",
      "   HTTP Status       1.00      1.00      1.00       305\n",
      "Resource Usage       1.00      1.00      1.00        53\n",
      "Security Alert       0.99      1.00      1.00       112\n",
      "\n",
      "      accuracy                           1.00       571\n",
      "     macro avg       1.00      1.00      1.00       571\n",
      "  weighted avg       1.00      1.00      1.00       571\n",
      "\n"
     ]
    }
   ],
   "execution_count": 20
  },
  {
   "metadata": {},
   "cell_type": "markdown",
   "source": "## 8. Save trained models",
   "id": "e02d91df70eef505"
  },
  {
   "metadata": {
    "ExecuteTime": {
     "end_time": "2025-09-22T05:16:02.321490Z",
     "start_time": "2025-09-22T05:16:02.207347Z"
    }
   },
   "cell_type": "code",
   "source": [
    "import joblib\n",
    "\n",
    "joblib.dump(rf_model, '../clf_models/random_forest.joblib')\n",
    "joblib.dump(gnb_model, '../clf_models/naive_bayes.joblib')\n",
    "joblib.dump(lr_model, '../clf_models/logistic_regression.joblib')"
   ],
   "id": "511bda328f294987",
   "outputs": [
    {
     "data": {
      "text/plain": [
       "['../clf_models/logistic_regression.joblib']"
      ]
     },
     "execution_count": 21,
     "metadata": {},
     "output_type": "execute_result"
    }
   ],
   "execution_count": 21
  }
 ],
 "metadata": {
  "kernelspec": {
   "display_name": "Python 3",
   "language": "python",
   "name": "python3"
  },
  "language_info": {
   "codemirror_mode": {
    "name": "ipython",
    "version": 2
   },
   "file_extension": ".py",
   "mimetype": "text/x-python",
   "name": "python",
   "nbconvert_exporter": "python",
   "pygments_lexer": "ipython2",
   "version": "2.7.6"
  }
 },
 "nbformat": 4,
 "nbformat_minor": 5
}
